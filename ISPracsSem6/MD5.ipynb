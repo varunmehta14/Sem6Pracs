{
  "nbformat": 4,
  "nbformat_minor": 0,
  "metadata": {
    "colab": {
      "name": "MD5.ipynb",
      "provenance": [],
      "collapsed_sections": []
    },
    "kernelspec": {
      "name": "python3",
      "display_name": "Python 3"
    },
    "language_info": {
      "name": "python"
    }
  },
  "cells": [
    {
      "cell_type": "code",
      "source": [
        "import random\n",
        "import string\n",
        "import hashlib"
      ],
      "metadata": {
        "id": "rSzzPzTrPGpN"
      },
      "execution_count": null,
      "outputs": []
    },
    {
      "cell_type": "code",
      "execution_count": null,
      "metadata": {
        "id": "6tpQRHi5N0qd"
      },
      "outputs": [],
      "source": [
        "def encryption(plain, key):\n",
        "  cipher = \"\"\n",
        "  for i in range (0, len(plain)):\n",
        "    if (plain[i] == \" \"):\n",
        "      cipher += \" \"\n",
        "    else:\n",
        "      temp = ord(plain[i])\n",
        "      temp -= 65\n",
        "      temp += key\n",
        "      temp = temp % 57\n",
        "      cipher += chr(temp + 65)\n",
        "  return cipher"
      ]
    },
    {
      "cell_type": "code",
      "source": [
        "message = input(\"Enter message: \")\n",
        "key = random.randint(0, 100)\n",
        "encrypted_message = encryption(message, key)\n",
        "print(encrypted_message)\n",
        "\n",
        "# Hashing using md5\n",
        "\n",
        "result = hashlib.md5(encrypted_message.encode())\n",
        "hash = result.hexdigest()\n",
        "\n",
        "print(\"To be sent over network: Message\", message, \"; Hash: \", hash)"
      ],
      "metadata": {
        "colab": {
          "base_uri": "https://localhost:8080/"
        },
        "id": "VD6YUHJhOIFW",
        "outputId": "b4041177-c082-48eb-91d4-e5a675d8a612"
      },
      "execution_count": null,
      "outputs": [
        {
          "output_type": "stream",
          "name": "stdout",
          "text": [
            "Enter message: MD algorithm for INTEGRITY Check\n",
            "pg KVQY\\S^RW PY\\ lqwhjulwC fROMU\n",
            "To be sent over network: Message MD algorithm for INTEGRITY Check ; Hash:  624d6b1c89b4f41ac95d9260f5a5ebcf\n"
          ]
        }
      ]
    },
    {
      "cell_type": "code",
      "source": [
        "print(\"Message recieved: \", message)\n",
        "print(\"Hash received: \", hash)\n",
        "\n",
        "encrypted_message_2 = encryption(message, key)\n",
        "print(\"Message encrypted: \",encrypted_message_2)\n",
        "\n",
        "result = hashlib.md5(encrypted_message_2.encode())\n",
        "hash2 = result.hexdigest()\n",
        "print(\"Hash created for check: \", hash)\n",
        "\n",
        "if (hash == hash2):\n",
        "  print(\"Integrity achieved!!\")\n",
        "else:\n",
        "  print(\"Some alterations done in the network!!\")"
      ],
      "metadata": {
        "colab": {
          "base_uri": "https://localhost:8080/"
        },
        "id": "_xObHiASQEDo",
        "outputId": "3857dbb0-5264-41d5-a760-5593eab40ab3"
      },
      "execution_count": null,
      "outputs": [
        {
          "output_type": "stream",
          "name": "stdout",
          "text": [
            "Message recieved:  MD algorithm for INTEGRITY Check\n",
            "Hash received:  624d6b1c89b4f41ac95d9260f5a5ebcf\n",
            "Message encrypted:  pg KVQY\\S^RW PY\\ lqwhjulwC fROMU\n",
            "Hash created for check:  624d6b1c89b4f41ac95d9260f5a5ebcf\n",
            "Integrity achieved!!\n"
          ]
        }
      ]
    }
  ]
}