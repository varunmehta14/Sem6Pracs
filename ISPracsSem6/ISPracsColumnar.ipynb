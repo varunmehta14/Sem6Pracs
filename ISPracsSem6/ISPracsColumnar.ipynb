{
  "nbformat": 4,
  "nbformat_minor": 0,
  "metadata": {
    "colab": {
      "name": "ISPracsColumnar.ipynb",
      "provenance": [],
      "collapsed_sections": []
    },
    "kernelspec": {
      "name": "python3",
      "display_name": "Python 3"
    },
    "language_info": {
      "name": "python"
    }
  },
  "cells": [
    {
      "cell_type": "code",
      "execution_count": null,
      "metadata": {
        "id": "ciTR-rUnWjuM"
      },
      "outputs": [],
      "source": [
        "import numpy as np\n",
        "import math"
      ]
    },
    {
      "cell_type": "code",
      "source": [
        "def getval(temp, key):\n",
        "  for i in range (0, len(key)):\n",
        "    if (key[i] == temp):\n",
        "      return i\n",
        "\n",
        "def encrypt(plain, key):\n",
        "  key_list = sorted(key)\n",
        "  rows = math.ceil (len(plain)/len(key))\n",
        "  matrix = np.chararray( (rows, len(key) ), unicode = True)\n",
        "  matrix[:] = '$'\n",
        "  j = 0;\n",
        "  k = 0;\n",
        "  for i in range (0, len(plain)):\n",
        "    if (j == len(key)):\n",
        "      j = 0\n",
        "      k+=1\n",
        "    if (plain[i] == \" \"):\n",
        "      matrix[k][j] = \"_\"\n",
        "    else:\n",
        "      matrix[k][j] = plain[i]\n",
        "    j+=1\n",
        "  print(\"Cipher Matrix:\\n\", matrix)\n",
        "  cipher = \"\"\n",
        "  for i in range (0, len(key_list)):\n",
        "    temp = getval(key_list[i], key)\n",
        "    for j in range (0, rows):\n",
        "      cipher += matrix[j][temp]\n",
        "    cipher += '#'\n",
        "  return cipher"
      ],
      "metadata": {
        "id": "UJ0zLVB3bT4e"
      },
      "execution_count": null,
      "outputs": []
    },
    {
      "cell_type": "code",
      "source": [
        "def decrypt(cipher, key):\n",
        "  cipher = cipher.replace('#', '')\n",
        "  key_list = sorted(key)\n",
        "  rows = math.ceil (len(cipher)/len(key))\n",
        "  matrix = np.chararray( (rows, len(key) ), unicode = True)\n",
        "  matrix[:] = '$'\n",
        "  k = 0\n",
        "\n",
        "  for i in range (0, len(key)):\n",
        "    temp = getval(key_list[i], key)\n",
        "    for j in range (0, rows):\n",
        "      matrix[j][temp] = cipher[k]\n",
        "      k+=1\n",
        "\n",
        "  print(\"Plain Matrix:\\n\", matrix)\n",
        "\n",
        "  plain = \"\"\n",
        "\n",
        "  for i in range (0, rows):\n",
        "    for j in range (0, len(key)):\n",
        "      if (matrix[i][j] == '_'):\n",
        "        plain += \" \"\n",
        "      else:\n",
        "        plain += matrix[i][j]\n",
        "  plain = plain.replace('$', '')\n",
        "  return plain"
      ],
      "metadata": {
        "id": "VC9hcZsVd8fn"
      },
      "execution_count": null,
      "outputs": []
    },
    {
      "cell_type": "code",
      "source": [
        "plain = input(\"Enter plain text: \")\n",
        "key = input(\"Enter key: \")\n",
        "\n",
        "cipher = encrypt(plain, key)\n",
        "print(\"Cipher: \", cipher)\n",
        "\n",
        "plain_new = decrypt(cipher, key)\n",
        "print(\"Original Plain: \", plain_new)"
      ],
      "metadata": {
        "colab": {
          "base_uri": "https://localhost:8080/"
        },
        "id": "Ngp8gzJNXaih",
        "outputId": "234851dc-c9fd-45fe-f6ec-9d9851140eb4"
      },
      "execution_count": null,
      "outputs": [
        {
          "output_type": "stream",
          "name": "stdout",
          "text": [
            "Enter plain text: Columnar Encryption Method\n",
            "Enter key: 5149\n",
            "Cipher Matrix:\n",
            " [['C' 'o' 'l' 'u']\n",
            " ['m' 'n' 'a' 'r']\n",
            " ['_' 'E' 'n' 'c']\n",
            " ['r' 'y' 'p' 't']\n",
            " ['i' 'o' 'n' '_']\n",
            " ['M' 'e' 't' 'h']\n",
            " ['o' 'd' '$' '$']]\n",
            "Cipher:  onEyoed#lanpnt$#Cm_riMo#urct_h$#\n",
            "Plain Matrix:\n",
            " [['C' 'o' 'l' 'u']\n",
            " ['m' 'n' 'a' 'r']\n",
            " ['_' 'E' 'n' 'c']\n",
            " ['r' 'y' 'p' 't']\n",
            " ['i' 'o' 'n' '_']\n",
            " ['M' 'e' 't' 'h']\n",
            " ['o' 'd' '$' '$']]\n",
            "Original Plain:  Columnar Encryption Method\n"
          ]
        }
      ]
    }
  ]
}