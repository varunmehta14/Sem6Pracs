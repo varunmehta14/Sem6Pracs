{
  "nbformat": 4,
  "nbformat_minor": 0,
  "metadata": {
    "colab": {
      "name": "DigitalSignature.ipynb",
      "provenance": [],
      "collapsed_sections": []
    },
    "kernelspec": {
      "name": "python3",
      "display_name": "Python 3"
    },
    "language_info": {
      "name": "python"
    }
  },
  "cells": [
    {
      "cell_type": "code",
      "source": [
        "import math\n",
        "import hashlib"
      ],
      "metadata": {
        "id": "1okDfBcFZfuM"
      },
      "execution_count": null,
      "outputs": []
    },
    {
      "cell_type": "code",
      "source": [
        "def getval(p, q):\n",
        "  n = p * q\n",
        "  z = (p-1) * (q-1)\n",
        "\n",
        "  e = 2\n",
        "  while (True):\n",
        "    if (math.gcd(e,z) == 1):\n",
        "      break\n",
        "    e+=1\n",
        "\n",
        "  d = 2\n",
        "  while (True):\n",
        "    if ( ((e*d) % z) == 1):\n",
        "      break\n",
        "    d += 1\n",
        "\n",
        "  return n,z,e,d"
      ],
      "metadata": {
        "id": "4o6dww8ubxAi"
      },
      "execution_count": null,
      "outputs": []
    },
    {
      "cell_type": "code",
      "source": [
        "def encrypt(plain, e, n):\n",
        "  cipher = \"\"\n",
        "  for i in range (0, len(plain)):\n",
        "    if (plain[i] == \" \"):\n",
        "      cipher += \" \"\n",
        "    else:\n",
        "      temp = ord(plain[i])\n",
        "      temp = temp ** e\n",
        "      temp = temp % n\n",
        "      cipher += chr(temp)\n",
        "  return cipher\n",
        "\n",
        "def decrypt(cipher, d, n):\n",
        "  plain = \"\"\n",
        "  for i in range (0, len(cipher)):\n",
        "    if (cipher[i] == \" \"):\n",
        "      plain += \" \"\n",
        "    else: \n",
        "      temp = ord (cipher[i])\n",
        "      temp = temp ** d\n",
        "      temp = temp % n\n",
        "      plain += chr(temp)\n",
        "  return plain"
      ],
      "metadata": {
        "id": "O8sk-vuDcKLc"
      },
      "execution_count": null,
      "outputs": []
    },
    {
      "cell_type": "code",
      "source": [
        "p = int(input(\"Enter prime 1: \"))\n",
        "q = int(input(\"Enter prime 2: \"))\n",
        "n,z,e,d = getval(p, q)\n",
        "message = input(\"Enter message: \")\n",
        "\n",
        "result = hashlib.md5(message.encode())\n",
        "hash = result.hexdigest()\n",
        "print(\"Message Digest: \", hash)\n",
        "digital_signature = encrypt(hash, e, n)\n",
        "print(\"Digital Signature: \", digital_signature)\n",
        "\n",
        "print(\"\\nTo be sent over network: Message\", message, \"; Digital Signature: \", digital_signature)"
      ],
      "metadata": {
        "colab": {
          "base_uri": "https://localhost:8080/"
        },
        "id": "5kQ5Ln1Qb3ya",
        "outputId": "ea8fff44-efbc-4984-852d-e011ab48c415"
      },
      "execution_count": null,
      "outputs": [
        {
          "output_type": "stream",
          "name": "stdout",
          "text": [
            "Enter prime 1: 89\n",
            "Enter prime 2: 47\n",
            "Enter message: Digital Signature for INTEGRITY Check\n",
            "Message Digest:  6ab5632f9a1eda0e547aa8591b494cb4\n",
            "Digital Signature:  અ̋\u0011নઅ஢๭ଢ଼ѵ̋ȍԃć̋ܪԃনਉದ̋̋ထনѵȍ\u0011ਉѵਉྺ\u0011ਉ\n",
            "\n",
            "To be sent over network: Message Digital Signature for INTEGRITY Check ; Digital Signature:  અ̋\u0011নઅ஢๭ଢ଼ѵ̋ȍԃć̋ܪԃনਉದ̋̋ထনѵȍ\u0011ਉѵਉྺ\u0011ਉ\n"
          ]
        }
      ]
    },
    {
      "cell_type": "code",
      "source": [
        "print(\"Message recieved: \", message)\n",
        "print(\"Digital Signature: \", digital_signature)\n",
        "\n",
        "result = hashlib.md5(message.encode())\n",
        "d1 = result.hexdigest()\n",
        "print(\"D1: \", d1)\n",
        "\n",
        "d2 = decrypt(digital_signature, d, n)\n",
        "print(\"D2: \", d2)\n",
        "\n",
        "if (d1 == d2):\n",
        "  print(\"Integrity achieved!!\")\n",
        "else:\n",
        "  print(\"Some alterations done in the network!!\")"
      ],
      "metadata": {
        "colab": {
          "base_uri": "https://localhost:8080/"
        },
        "id": "Va-vuQ2Tcujl",
        "outputId": "5014ede9-17e9-498c-9c1c-641edd319b29"
      },
      "execution_count": null,
      "outputs": [
        {
          "output_type": "stream",
          "name": "stdout",
          "text": [
            "Message recieved:  Digital Signature for INTEGRITY Check\n",
            "Digital Signature:  અ̋\u0011নઅ஢๭ଢ଼ѵ̋ȍԃć̋ܪԃনਉದ̋̋ထনѵȍ\u0011ਉѵਉྺ\u0011ਉ\n",
            "D1:  6ab5632f9a1eda0e547aa8591b494cb4\n",
            "D2:  6ab5632f9a1eda0e547aa8591b494cb4\n",
            "Integrity achieved!!\n"
          ]
        }
      ]
    }
  ]
}