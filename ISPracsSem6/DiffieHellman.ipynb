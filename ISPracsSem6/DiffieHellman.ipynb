{
  "nbformat": 4,
  "nbformat_minor": 0,
  "metadata": {
    "colab": {
      "name": "DiffieHellman.ipynb",
      "provenance": [],
      "collapsed_sections": []
    },
    "kernelspec": {
      "name": "python3",
      "display_name": "Python 3"
    },
    "language_info": {
      "name": "python"
    }
  },
  "cells": [
    {
      "cell_type": "code",
      "execution_count": null,
      "metadata": {
        "id": "Li-mqkzTJbyv"
      },
      "outputs": [],
      "source": [
        "def getroot(n):\n",
        "  i = 2\n",
        "  while (True):\n",
        "    root = []\n",
        "    for j in range (1, n):\n",
        "      temp = (i ** j) % n\n",
        "      if (temp in root):\n",
        "        break;\n",
        "      else:\n",
        "        root.append(temp)\n",
        "    if (len(root) == n-1):\n",
        "      return i\n",
        "      break\n",
        "    i+=1"
      ]
    },
    {
      "cell_type": "code",
      "source": [
        "def getVal(a, b, c):\n",
        "  return ( (a ** b) % c)"
      ],
      "metadata": {
        "id": "mVvaHGGcM2xU"
      },
      "execution_count": null,
      "outputs": []
    },
    {
      "cell_type": "code",
      "source": [
        "prime = int(input(\"Enter prime: \"))\n",
        "alpha = getroot(prime)\n",
        "\n",
        "xa = int(input(\"Enter private key of sender: \"))\n",
        "xb = int(input(\"Enter private key of receiver: \"))\n",
        "\n",
        "ka = getVal(alpha, xa, prime)\n",
        "kb = getVal(alpha, xb, prime)\n",
        "\n",
        "print(\"\\nPublic key of sender: \", ka)\n",
        "print(\"Public key of receiver: \", kb)\n",
        "\n",
        "print(\"\\nExchanged public keys\")\n",
        "\n",
        "k1 = getVal(kb, xa, prime)\n",
        "k2 = getVal(ka, xb, prime)\n",
        "\n",
        "print(\"\\nShared key1: \", k1)\n",
        "print(\"Shared key2: \", k2)"
      ],
      "metadata": {
        "colab": {
          "base_uri": "https://localhost:8080/"
        },
        "id": "mzGqHeSpLbT6",
        "outputId": "be6e1ce7-c793-4ade-ec05-94d6cbd661aa"
      },
      "execution_count": null,
      "outputs": [
        {
          "output_type": "stream",
          "name": "stdout",
          "text": [
            "Enter prime: 89\n",
            "Enter private key of sender: 47\n",
            "Enter private key of receiver: 62\n",
            "\n",
            "Public key of sender:  62\n",
            "Public key of receiver:  71\n",
            "\n",
            "Exchanged public keys\n",
            "\n",
            "Shared key1:  42\n",
            "Shared key2:  42\n"
          ]
        }
      ]
    }
  ]
}