{
  "nbformat": 4,
  "nbformat_minor": 0,
  "metadata": {
    "colab": {
      "name": "RSA-3Prime.ipynb",
      "provenance": [],
      "collapsed_sections": []
    },
    "kernelspec": {
      "name": "python3",
      "display_name": "Python 3"
    },
    "language_info": {
      "name": "python"
    }
  },
  "cells": [
    {
      "cell_type": "code",
      "execution_count": null,
      "metadata": {
        "id": "k96y4TAJougs"
      },
      "outputs": [],
      "source": [
        "import math"
      ]
    },
    {
      "cell_type": "code",
      "source": [
        "def getval(p, q, r):\n",
        "  n = p * q * r\n",
        "  z = (p-1) * (q-1) * (r-1)\n",
        "\n",
        "  e = 2\n",
        "  while (True):\n",
        "    if (math.gcd(e,z) == 1):\n",
        "      break\n",
        "    e+=1\n",
        "\n",
        "  d = 2\n",
        "  while (True):\n",
        "    if ( ((e*d) % z) == 1):\n",
        "      break\n",
        "    d += 1\n",
        "\n",
        "  return n,z,e,d\n",
        "\n",
        "def encrypt(plain, e, n):\n",
        "  cipher = \"\"\n",
        "  for i in range (0, len(plain)):\n",
        "    if (plain[i] == \" \"):\n",
        "      cipher += \" \"\n",
        "    else:\n",
        "      temp = ord(plain[i])\n",
        "      temp = temp ** e\n",
        "      temp = temp % n\n",
        "      cipher += chr(temp)\n",
        "  return cipher\n",
        "\n",
        "def decrypt(cipher, d, n):\n",
        "  plain = \"\"\n",
        "  for i in range (0, len(cipher)):\n",
        "    if (cipher[i] == \" \"):\n",
        "      plain += \" \"\n",
        "    else: \n",
        "      temp = ord (cipher[i])\n",
        "      temp = temp ** d\n",
        "      temp = temp % n\n",
        "      plain += chr(temp)\n",
        "  return plain"
      ],
      "metadata": {
        "id": "gopl6egMpI7V"
      },
      "execution_count": null,
      "outputs": []
    },
    {
      "cell_type": "code",
      "source": [
        "p = int(input(\"Enter prime 1: \"))\n",
        "q = int(input(\"Enter prime 2: \"))\n",
        "r = int(input(\"Enter prime 3: \"))\n",
        "n,z,e,d = getval(p, q, r)\n",
        "plain = input(\"Enter plain text: \")\n",
        "cipher = encrypt(plain, e, n)\n",
        "print(\"Cipher text: \", cipher)\n",
        "new_plain = decrypt(cipher, d, n)\n",
        "print(\"Plain text: \", new_plain)"
      ],
      "metadata": {
        "colab": {
          "base_uri": "https://localhost:8080/"
        },
        "id": "hbNzPiekpPw7",
        "outputId": "51fdc54b-0b18-4c25-967e-3fae9ced3817"
      },
      "execution_count": null,
      "outputs": [
        {
          "output_type": "stream",
          "name": "stdout",
          "text": [
            "Enter prime 1: 31\n",
            "Enter prime 2: 47\n",
            "Enter prime 3: 5\n",
            "Enter plain text: RSA using three primes\n",
            "Cipher text:  ᗞཌྷА ൕᱫ̾ྌඤ ͢ᚓᅜ᧬᧬ ᜨᅜ̾ᚎ᧬ᱫ\n",
            "Plain text:  RSA using three primes\n"
          ]
        }
      ]
    }
  ]
}