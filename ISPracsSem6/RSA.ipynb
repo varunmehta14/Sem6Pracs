{
  "nbformat": 4,
  "nbformat_minor": 0,
  "metadata": {
    "colab": {
      "name": "RSA.ipynb",
      "provenance": [],
      "collapsed_sections": []
    },
    "kernelspec": {
      "name": "python3",
      "display_name": "Python 3"
    },
    "language_info": {
      "name": "python"
    }
  },
  "cells": [
    {
      "cell_type": "code",
      "source": [
        "import math"
      ],
      "metadata": {
        "id": "-QCbuvtlktU7"
      },
      "execution_count": null,
      "outputs": []
    },
    {
      "cell_type": "code",
      "execution_count": null,
      "metadata": {
        "id": "QT1I83oyi7kR"
      },
      "outputs": [],
      "source": [
        "def getval(p, q):\n",
        "  n = p * q\n",
        "  z = (p-1) * (q-1)\n",
        "\n",
        "  e = 2\n",
        "  while (True):\n",
        "    if (math.gcd(e,z) == 1):\n",
        "      break\n",
        "    e+=1\n",
        "\n",
        "  d = 2\n",
        "  while (True):\n",
        "    if ( ((e*d) % z) == 1):\n",
        "      break\n",
        "    d += 1\n",
        "\n",
        "  return n,z,e,d\n",
        "\n",
        "def encrypt(plain, e, n):\n",
        "  cipher = \"\"\n",
        "  for i in range (0, len(plain)):\n",
        "    if (plain[i] == \" \"):\n",
        "      cipher += \" \"\n",
        "    else:\n",
        "      temp = ord(plain[i])\n",
        "      temp = temp ** e\n",
        "      temp = temp % n\n",
        "      cipher += chr(temp)\n",
        "  return cipher\n",
        "\n",
        "def decrypt(cipher, d, n):\n",
        "  plain = \"\"\n",
        "  for i in range (0, len(cipher)):\n",
        "    if (cipher[i] == \" \"):\n",
        "      plain += \" \"\n",
        "    else: \n",
        "      temp = ord (cipher[i])\n",
        "      temp = temp ** d\n",
        "      temp = temp % n\n",
        "      plain += chr(temp)\n",
        "  return plain"
      ]
    },
    {
      "cell_type": "code",
      "source": [
        "p = int(input(\"Enter prime 1: \"))\n",
        "q = int(input(\"Enter prime 2: \"))\n",
        "n,z,e,d = getval(p, q)\n",
        "plain = input(\"Enter plain text: \")\n",
        "cipher = encrypt(plain, e, n)\n",
        "print(\"Cipher text: \", cipher)\n",
        "new_plain = decrypt(cipher, d, n)\n",
        "print(\"Plain text: \", new_plain)"
      ],
      "metadata": {
        "colab": {
          "base_uri": "https://localhost:8080/"
        },
        "id": "iIm-4951muJF",
        "outputId": "83cc20dd-4339-428a-d1fb-d31cb1575688"
      },
      "execution_count": null,
      "outputs": [
        {
          "output_type": "stream",
          "name": "stdout",
          "text": [
            "Enter prime 1: 17\n",
            "Enter prime 2: 31\n",
            "Enter plain text: RSA using Two primeS\n",
            "Cipher text:  *Ǣ \u0015ŎǼƈ ƨwā ŻäŎľ!*\n",
            "Plain text:  RSA using Two primeS\n"
          ]
        }
      ]
    }
  ]
}