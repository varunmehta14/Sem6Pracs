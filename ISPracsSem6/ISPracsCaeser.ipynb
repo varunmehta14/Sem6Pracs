{
  "nbformat": 4,
  "nbformat_minor": 0,
  "metadata": {
    "colab": {
      "name": "ISPracsCaeser.ipynb",
      "provenance": [],
      "collapsed_sections": []
    },
    "kernelspec": {
      "name": "python3",
      "display_name": "Python 3"
    },
    "language_info": {
      "name": "python"
    }
  },
  "cells": [
    {
      "cell_type": "code",
      "execution_count": null,
      "metadata": {
        "id": "dKm6EXctT-na"
      },
      "outputs": [],
      "source": [
        "def caeser_encrypt(plain, key):\n",
        "  cipher = \"\"\n",
        "  for i in range (0, len(plain)):\n",
        "    if (plain[i] == \" \"):\n",
        "      cipher += \" \"\n",
        "    else:\n",
        "      temp = ord (plain[i])\n",
        "      temp = (temp - 65 + key) \n",
        "      temp = temp % 57\n",
        "      cipher += chr (temp + 65)\n",
        "  return cipher"
      ]
    },
    {
      "cell_type": "code",
      "source": [
        "def caeser_decrypt(cipher, key):\n",
        "  plain = \"\"\n",
        "  for i in range (0, len(cipher)):\n",
        "    if (cipher[i] == \" \"):\n",
        "      plain += \" \"\n",
        "    else: \n",
        "      temp = ord(cipher[i])\n",
        "      temp = (temp - 65 - key)\n",
        "      temp = temp % 57\n",
        "      plain += chr(temp + 65)\n",
        "  return plain"
      ],
      "metadata": {
        "id": "zi-TgXEjVFwe"
      },
      "execution_count": null,
      "outputs": []
    },
    {
      "cell_type": "code",
      "source": [
        "plain = input(\"Enter plain text: \")\n",
        "key = int(input(\"Enter key: \"))\n",
        "cipher = caeser_encrypt(plain, key)\n",
        "print(\"Cipher Generated: \", cipher)\n",
        "text = caeser_decrypt(cipher, key)\n",
        "print(\"Plain Generated from Cipher: \", text)\n"
      ],
      "metadata": {
        "colab": {
          "base_uri": "https://localhost:8080/"
        },
        "id": "BIACtdhmUmmR",
        "outputId": "f7d3771f-5534-45d6-fb10-6588abe0ca5a"
      },
      "execution_count": null,
      "outputs": [
        {
          "output_type": "stream",
          "name": "stdout",
          "text": [
            "Enter plain text: Caeser Cipher Encryption \n",
            "Enter key: 42\n",
            "Cipher Generated:  mRVdVc mZaYVc o_TcjaeZ`_ \n",
            "Plain Generated from Cipher:  Caeser Cipher Encryption \n"
          ]
        }
      ]
    }
  ]
}