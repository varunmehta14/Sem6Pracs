{
  "nbformat": 4,
  "nbformat_minor": 0,
  "metadata": {
    "colab": {
      "name": "SHA512.ipynb",
      "provenance": [],
      "collapsed_sections": []
    },
    "kernelspec": {
      "name": "python3",
      "display_name": "Python 3"
    },
    "language_info": {
      "name": "python"
    }
  },
  "cells": [
    {
      "cell_type": "code",
      "execution_count": null,
      "metadata": {
        "id": "_zYwk5SZQZXE"
      },
      "outputs": [],
      "source": [
        "import random\n",
        "import string\n",
        "import hashlib"
      ]
    },
    {
      "cell_type": "code",
      "source": [
        "def encryption(plain, key):\n",
        "  cipher = \"\"\n",
        "  for i in range (0, len(plain)):\n",
        "    if (plain[i] == \" \"):\n",
        "      cipher += \" \"\n",
        "    else:\n",
        "      temp = ord(plain[i])\n",
        "      temp -= 65\n",
        "      temp += key\n",
        "      temp = temp % 57\n",
        "      cipher += chr(temp + 65)\n",
        "  return cipher"
      ],
      "metadata": {
        "id": "VHL9dhPhQmJ5"
      },
      "execution_count": null,
      "outputs": []
    },
    {
      "cell_type": "code",
      "source": [
        "message = input(\"Enter message: \")\n",
        "key = random.randint(0, 100)\n",
        "encrypted_message = encryption(message, key)\n",
        "print(encrypted_message)\n",
        "\n",
        "# Hashing using sha512\n",
        "\n",
        "result = hashlib.sha512(encrypted_message.encode())\n",
        "hash = result.hexdigest()\n",
        "\n",
        "print(\"To be sent over network: Message\", message, \"; Hash: \", hash)"
      ],
      "metadata": {
        "colab": {
          "base_uri": "https://localhost:8080/"
        },
        "id": "6Sde1IlhQoDE",
        "outputId": "1a8972de-b41b-4e9a-a449-617be145e290"
      },
      "execution_count": null,
      "outputs": [
        {
          "output_type": "stream",
          "name": "stdout",
          "text": [
            "Enter message: SHA Hashing Technique for integrity check\n",
            "ODv D]odejc Pa_djemqa bkn ejpacnepu _da_g\n",
            "To be sent over network: Message SHA Hashing Technique for integrity check ; Hash:  e66543530959efb5633adf79057284207fd82e7e179e0a251427e17675a3a3f592ccabf492fa3f99cb4681146b965d89d55552d2fdeef3e62164b2dc162896f6\n"
          ]
        }
      ]
    },
    {
      "cell_type": "code",
      "source": [
        "print(\"Message recieved: \", message)\n",
        "print(\"Hash received: \", hash)\n",
        "\n",
        "encrypted_message_2 = encryption(message, key)\n",
        "print(\"Message encrypted: \",encrypted_message_2)\n",
        "\n",
        "result = hashlib.sha512(encrypted_message_2.encode())\n",
        "hash2 = result.hexdigest()\n",
        "print(\"Hash created for check: \", hash)\n",
        "\n",
        "if (hash == hash2):\n",
        "  print(\"Integrity achieved!!\")\n",
        "else:\n",
        "  print(\"Some alterations done in the network!!\")"
      ],
      "metadata": {
        "colab": {
          "base_uri": "https://localhost:8080/"
        },
        "id": "Ij7EwngMRDRc",
        "outputId": "b45104b6-83a8-415b-dbdc-966fec073436"
      },
      "execution_count": null,
      "outputs": [
        {
          "output_type": "stream",
          "name": "stdout",
          "text": [
            "Message recieved:  SHA Hashing Technique for integrity check\n",
            "Hash received:  e66543530959efb5633adf79057284207fd82e7e179e0a251427e17675a3a3f592ccabf492fa3f99cb4681146b965d89d55552d2fdeef3e62164b2dc162896f6\n",
            "Message encrypted:  ODv D]odejc Pa_djemqa bkn ejpacnepu _da_g\n",
            "Hash created for check:  e66543530959efb5633adf79057284207fd82e7e179e0a251427e17675a3a3f592ccabf492fa3f99cb4681146b965d89d55552d2fdeef3e62164b2dc162896f6\n",
            "Integrity achieved!!\n"
          ]
        }
      ]
    }
  ]
}