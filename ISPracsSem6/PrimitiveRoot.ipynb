{
  "nbformat": 4,
  "nbformat_minor": 0,
  "metadata": {
    "colab": {
      "name": "PrimitiveRoot.ipynb",
      "provenance": [],
      "collapsed_sections": []
    },
    "kernelspec": {
      "name": "python3",
      "display_name": "Python 3"
    },
    "language_info": {
      "name": "python"
    }
  },
  "cells": [
    {
      "cell_type": "code",
      "execution_count": null,
      "metadata": {
        "colab": {
          "base_uri": "https://localhost:8080/"
        },
        "id": "nr7tnkrQd_Nn",
        "outputId": "c562301d-f89f-46a9-8178-134b8961f70a"
      },
      "outputs": [
        {
          "output_type": "stream",
          "name": "stdout",
          "text": [
            "Enter prime: 89\n",
            "3\n"
          ]
        }
      ],
      "source": [
        "p = int(input(\"Enter prime: \"))\n",
        "\n",
        "i = 2\n",
        "\n",
        "while (True):\n",
        "  list = []\n",
        "  for j in range (0, p):\n",
        "    temp = (i ** j) % p\n",
        "    if (temp in list):\n",
        "      break\n",
        "    else:\n",
        "      list.append(temp)\n",
        "  if (len(list) == p-1):\n",
        "    print(i)\n",
        "    break\n",
        "  i += 1"
      ]
    }
  ]
}